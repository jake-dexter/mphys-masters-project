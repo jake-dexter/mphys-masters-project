{
 "cells": [
  {
   "cell_type": "code",
   "execution_count": 1,
   "id": "ac7c1eb0",
   "metadata": {},
   "outputs": [],
   "source": [
    "import matplotlib.pyplot as plt\n",
    "from pathlib import Path\n",
    "import pandas as pd\n",
    "import numpy as np\n",
    "import pickle\n",
    "from tqdm import tqdm"
   ]
  },
  {
   "cell_type": "code",
   "execution_count": 2,
   "id": "5d40db23",
   "metadata": {},
   "outputs": [],
   "source": [
    "base_dirs = {\n",
    "    \"Without\": Path(\"data/Without EDM\"),\n",
    "    \"With\": Path(\"data/With EDM\")\n",
    "}\n",
    "\n",
    "dfs = []\n",
    "\n",
    "for edm_state, dir_path in base_dirs.items():\n",
    "    for file in sorted(dir_path.glob(\"G2_*.pkl\")):\n",
    "        run_id = int(file.stem.split(\"_\")[1])\n",
    "        with open(file, \"rb\") as f:\n",
    "            X, Y, Z = pickle.load(f)\n",
    "        \n",
    "        df = pd.DataFrame({\n",
    "            \"lambda_frac\": X.ravel(),\n",
    "            \"theta_mrad\": (Y * 1000).ravel(),\n",
    "            \"prob_density\": Z.ravel(),\n",
    "            \"run_id\": run_id,\n",
    "            \"edm_state\": edm_state\n",
    "        })\n",
    "        dfs.append(df)\n",
    "\n",
    "df_all = pd.concat(dfs, ignore_index=True)"
   ]
  },
  {
   "cell_type": "code",
   "execution_count": null,
   "id": "0840389c",
   "metadata": {},
   "outputs": [
    {
     "name": "stderr",
     "output_type": "stream",
     "text": [
      "EDM States:   0%|          | 0/2 [00:00<?, ?it/s]"
     ]
    },
    {
     "name": "stdout",
     "output_type": "stream",
     "text": [
      "Saved: C:\\Users\\JakeS\\OneDrive\\Documents\\University Work\\Year 4\\mphys-masters-project\\outputs\\With EDM\\G2_00_withEDM_heatmap.png\n",
      "Saved: C:\\Users\\JakeS\\OneDrive\\Documents\\University Work\\Year 4\\mphys-masters-project\\outputs\\With EDM\\G2_01_withEDM_heatmap.png\n",
      "Saved: C:\\Users\\JakeS\\OneDrive\\Documents\\University Work\\Year 4\\mphys-masters-project\\outputs\\With EDM\\G2_02_withEDM_heatmap.png\n",
      "Saved: C:\\Users\\JakeS\\OneDrive\\Documents\\University Work\\Year 4\\mphys-masters-project\\outputs\\With EDM\\G2_03_withEDM_heatmap.png\n",
      "Saved: C:\\Users\\JakeS\\OneDrive\\Documents\\University Work\\Year 4\\mphys-masters-project\\outputs\\With EDM\\G2_04_withEDM_heatmap.png\n",
      "Saved: C:\\Users\\JakeS\\OneDrive\\Documents\\University Work\\Year 4\\mphys-masters-project\\outputs\\With EDM\\G2_05_withEDM_heatmap.png\n",
      "Saved: C:\\Users\\JakeS\\OneDrive\\Documents\\University Work\\Year 4\\mphys-masters-project\\outputs\\With EDM\\G2_06_withEDM_heatmap.png\n",
      "Saved: C:\\Users\\JakeS\\OneDrive\\Documents\\University Work\\Year 4\\mphys-masters-project\\outputs\\With EDM\\G2_07_withEDM_heatmap.png\n",
      "Saved: C:\\Users\\JakeS\\OneDrive\\Documents\\University Work\\Year 4\\mphys-masters-project\\outputs\\With EDM\\G2_08_withEDM_heatmap.png\n",
      "Saved: C:\\Users\\JakeS\\OneDrive\\Documents\\University Work\\Year 4\\mphys-masters-project\\outputs\\With EDM\\G2_09_withEDM_heatmap.png\n",
      "Saved: C:\\Users\\JakeS\\OneDrive\\Documents\\University Work\\Year 4\\mphys-masters-project\\outputs\\With EDM\\G2_10_withEDM_heatmap.png\n",
      "Saved: C:\\Users\\JakeS\\OneDrive\\Documents\\University Work\\Year 4\\mphys-masters-project\\outputs\\With EDM\\G2_11_withEDM_heatmap.png\n",
      "Saved: C:\\Users\\JakeS\\OneDrive\\Documents\\University Work\\Year 4\\mphys-masters-project\\outputs\\With EDM\\G2_12_withEDM_heatmap.png\n",
      "Saved: C:\\Users\\JakeS\\OneDrive\\Documents\\University Work\\Year 4\\mphys-masters-project\\outputs\\With EDM\\G2_13_withEDM_heatmap.png\n",
      "Saved: C:\\Users\\JakeS\\OneDrive\\Documents\\University Work\\Year 4\\mphys-masters-project\\outputs\\With EDM\\G2_14_withEDM_heatmap.png\n",
      "Saved: C:\\Users\\JakeS\\OneDrive\\Documents\\University Work\\Year 4\\mphys-masters-project\\outputs\\With EDM\\G2_15_withEDM_heatmap.png\n",
      "Saved: C:\\Users\\JakeS\\OneDrive\\Documents\\University Work\\Year 4\\mphys-masters-project\\outputs\\With EDM\\G2_16_withEDM_heatmap.png\n",
      "Saved: C:\\Users\\JakeS\\OneDrive\\Documents\\University Work\\Year 4\\mphys-masters-project\\outputs\\With EDM\\G2_17_withEDM_heatmap.png\n",
      "Saved: C:\\Users\\JakeS\\OneDrive\\Documents\\University Work\\Year 4\\mphys-masters-project\\outputs\\With EDM\\G2_18_withEDM_heatmap.png\n",
      "Saved: C:\\Users\\JakeS\\OneDrive\\Documents\\University Work\\Year 4\\mphys-masters-project\\outputs\\With EDM\\G2_19_withEDM_heatmap.png\n",
      "Saved: C:\\Users\\JakeS\\OneDrive\\Documents\\University Work\\Year 4\\mphys-masters-project\\outputs\\With EDM\\G2_20_withEDM_heatmap.png\n",
      "Saved: C:\\Users\\JakeS\\OneDrive\\Documents\\University Work\\Year 4\\mphys-masters-project\\outputs\\With EDM\\G2_21_withEDM_heatmap.png\n",
      "Saved: C:\\Users\\JakeS\\OneDrive\\Documents\\University Work\\Year 4\\mphys-masters-project\\outputs\\With EDM\\G2_22_withEDM_heatmap.png\n",
      "Saved: C:\\Users\\JakeS\\OneDrive\\Documents\\University Work\\Year 4\\mphys-masters-project\\outputs\\With EDM\\G2_23_withEDM_heatmap.png\n",
      "Saved: C:\\Users\\JakeS\\OneDrive\\Documents\\University Work\\Year 4\\mphys-masters-project\\outputs\\With EDM\\G2_24_withEDM_heatmap.png\n",
      "Saved: C:\\Users\\JakeS\\OneDrive\\Documents\\University Work\\Year 4\\mphys-masters-project\\outputs\\With EDM\\G2_25_withEDM_heatmap.png\n",
      "Saved: C:\\Users\\JakeS\\OneDrive\\Documents\\University Work\\Year 4\\mphys-masters-project\\outputs\\With EDM\\G2_26_withEDM_heatmap.png\n",
      "Saved: C:\\Users\\JakeS\\OneDrive\\Documents\\University Work\\Year 4\\mphys-masters-project\\outputs\\With EDM\\G2_27_withEDM_heatmap.png\n"
     ]
    },
    {
     "name": "stderr",
     "output_type": "stream",
     "text": [
      "EDM States:  50%|█████     | 1/2 [00:42<00:42, 42.80s/it]"
     ]
    },
    {
     "name": "stdout",
     "output_type": "stream",
     "text": [
      "Saved: C:\\Users\\JakeS\\OneDrive\\Documents\\University Work\\Year 4\\mphys-masters-project\\outputs\\With EDM\\G2_28_withEDM_heatmap.png\n",
      "Saved: C:\\Users\\JakeS\\OneDrive\\Documents\\University Work\\Year 4\\mphys-masters-project\\outputs\\Without EDM\\G2_00_heatmap.png\n",
      "Saved: C:\\Users\\JakeS\\OneDrive\\Documents\\University Work\\Year 4\\mphys-masters-project\\outputs\\Without EDM\\G2_01_heatmap.png\n",
      "Saved: C:\\Users\\JakeS\\OneDrive\\Documents\\University Work\\Year 4\\mphys-masters-project\\outputs\\Without EDM\\G2_02_heatmap.png\n",
      "Saved: C:\\Users\\JakeS\\OneDrive\\Documents\\University Work\\Year 4\\mphys-masters-project\\outputs\\Without EDM\\G2_03_heatmap.png\n",
      "Saved: C:\\Users\\JakeS\\OneDrive\\Documents\\University Work\\Year 4\\mphys-masters-project\\outputs\\Without EDM\\G2_04_heatmap.png\n",
      "Saved: C:\\Users\\JakeS\\OneDrive\\Documents\\University Work\\Year 4\\mphys-masters-project\\outputs\\Without EDM\\G2_05_heatmap.png\n",
      "Saved: C:\\Users\\JakeS\\OneDrive\\Documents\\University Work\\Year 4\\mphys-masters-project\\outputs\\Without EDM\\G2_06_heatmap.png\n",
      "Saved: C:\\Users\\JakeS\\OneDrive\\Documents\\University Work\\Year 4\\mphys-masters-project\\outputs\\Without EDM\\G2_07_heatmap.png\n",
      "Saved: C:\\Users\\JakeS\\OneDrive\\Documents\\University Work\\Year 4\\mphys-masters-project\\outputs\\Without EDM\\G2_08_heatmap.png\n",
      "Saved: C:\\Users\\JakeS\\OneDrive\\Documents\\University Work\\Year 4\\mphys-masters-project\\outputs\\Without EDM\\G2_09_heatmap.png\n",
      "Saved: C:\\Users\\JakeS\\OneDrive\\Documents\\University Work\\Year 4\\mphys-masters-project\\outputs\\Without EDM\\G2_10_heatmap.png\n",
      "Saved: C:\\Users\\JakeS\\OneDrive\\Documents\\University Work\\Year 4\\mphys-masters-project\\outputs\\Without EDM\\G2_11_heatmap.png\n",
      "Saved: C:\\Users\\JakeS\\OneDrive\\Documents\\University Work\\Year 4\\mphys-masters-project\\outputs\\Without EDM\\G2_12_heatmap.png\n",
      "Saved: C:\\Users\\JakeS\\OneDrive\\Documents\\University Work\\Year 4\\mphys-masters-project\\outputs\\Without EDM\\G2_13_heatmap.png\n",
      "Saved: C:\\Users\\JakeS\\OneDrive\\Documents\\University Work\\Year 4\\mphys-masters-project\\outputs\\Without EDM\\G2_14_heatmap.png\n",
      "Saved: C:\\Users\\JakeS\\OneDrive\\Documents\\University Work\\Year 4\\mphys-masters-project\\outputs\\Without EDM\\G2_15_heatmap.png\n",
      "Saved: C:\\Users\\JakeS\\OneDrive\\Documents\\University Work\\Year 4\\mphys-masters-project\\outputs\\Without EDM\\G2_16_heatmap.png\n",
      "Saved: C:\\Users\\JakeS\\OneDrive\\Documents\\University Work\\Year 4\\mphys-masters-project\\outputs\\Without EDM\\G2_17_heatmap.png\n",
      "Saved: C:\\Users\\JakeS\\OneDrive\\Documents\\University Work\\Year 4\\mphys-masters-project\\outputs\\Without EDM\\G2_18_heatmap.png\n",
      "Saved: C:\\Users\\JakeS\\OneDrive\\Documents\\University Work\\Year 4\\mphys-masters-project\\outputs\\Without EDM\\G2_19_heatmap.png\n",
      "Saved: C:\\Users\\JakeS\\OneDrive\\Documents\\University Work\\Year 4\\mphys-masters-project\\outputs\\Without EDM\\G2_20_heatmap.png\n",
      "Saved: C:\\Users\\JakeS\\OneDrive\\Documents\\University Work\\Year 4\\mphys-masters-project\\outputs\\Without EDM\\G2_21_heatmap.png\n",
      "Saved: C:\\Users\\JakeS\\OneDrive\\Documents\\University Work\\Year 4\\mphys-masters-project\\outputs\\Without EDM\\G2_22_heatmap.png\n",
      "Saved: C:\\Users\\JakeS\\OneDrive\\Documents\\University Work\\Year 4\\mphys-masters-project\\outputs\\Without EDM\\G2_23_heatmap.png\n",
      "Saved: C:\\Users\\JakeS\\OneDrive\\Documents\\University Work\\Year 4\\mphys-masters-project\\outputs\\Without EDM\\G2_24_heatmap.png\n",
      "Saved: C:\\Users\\JakeS\\OneDrive\\Documents\\University Work\\Year 4\\mphys-masters-project\\outputs\\Without EDM\\G2_25_heatmap.png\n",
      "Saved: C:\\Users\\JakeS\\OneDrive\\Documents\\University Work\\Year 4\\mphys-masters-project\\outputs\\Without EDM\\G2_26_heatmap.png\n",
      "Saved: C:\\Users\\JakeS\\OneDrive\\Documents\\University Work\\Year 4\\mphys-masters-project\\outputs\\Without EDM\\G2_27_heatmap.png\n"
     ]
    },
    {
     "name": "stderr",
     "output_type": "stream",
     "text": [
      "EDM States: 100%|██████████| 2/2 [01:29<00:00, 44.71s/it]"
     ]
    },
    {
     "name": "stdout",
     "output_type": "stream",
     "text": [
      "Saved: C:\\Users\\JakeS\\OneDrive\\Documents\\University Work\\Year 4\\mphys-masters-project\\outputs\\Without EDM\\G2_28_heatmap.png\n"
     ]
    },
    {
     "name": "stderr",
     "output_type": "stream",
     "text": [
      "\n"
     ]
    }
   ],
   "source": [
    "output_base = Path(\"outputs\")\n",
    "\n",
    "for edm_state in tqdm([\"With\", \"Without\"], desc=\"EDM States\"):\n",
    "    # Match the folder names on disk\n",
    "    folder_name = \"With EDM\" if edm_state == \"With\" else \"Without EDM\"\n",
    "    output_dir = output_base / folder_name\n",
    "    output_dir.mkdir(parents=True, exist_ok=True)\n",
    "\n",
    "    for run_id in range(29):\n",
    "        subset = df_all.query(\"edm_state == @edm_state and run_id == @run_id\")\n",
    "        if subset.empty:\n",
    "            print(f\"Skipping {edm_state} run {run_id:02} — no data found.\")\n",
    "            continue\n",
    "\n",
    "        # Get unique sorted axes\n",
    "        lambdas = np.sort(subset[\"lambda_frac\"].unique())\n",
    "        thetas = np.sort(subset[\"theta_mrad\"].unique())\n",
    "\n",
    "        # Reshape back into 2D grid\n",
    "        Z_grid = subset.pivot_table(\n",
    "            index=\"theta_mrad\",\n",
    "            columns=\"lambda_frac\",\n",
    "            values=\"prob_density\"\n",
    "        ).values\n",
    "\n",
    "        # File name format\n",
    "        if edm_state == \"With\":\n",
    "            fname = f\"G2_{run_id:02}_withEDM_heatmap.png\"\n",
    "        else:\n",
    "            fname = f\"G2_{run_id:02}_heatmap.png\"\n",
    "\n",
    "        save_path = output_dir / fname\n",
    "\n",
    "        # Plot and save with no inline output\n",
    "        plt.figure(figsize=(6,6))\n",
    "        plt.imshow(\n",
    "            Z_grid,\n",
    "            extent=[lambdas.min(), lambdas.max(), thetas.min(), thetas.max()],\n",
    "            aspect='auto',\n",
    "            origin='lower',\n",
    "            cmap='viridis'\n",
    "        )\n",
    "        plt.xlabel(r\"Fractional energy ($\\lambda$)\")\n",
    "        plt.ylabel(r\"Longitudinal angle ($\\theta_L$) [mrad]\")\n",
    "        plt.title(f\"{folder_name} — Run {run_id:02}\")\n",
    "        plt.colorbar(label=\"Probability density\")\n",
    "        plt.tight_layout()\n",
    "        plt.savefig(save_path, dpi=200)\n",
    "        plt.close()\n",
    "\n",
    "        print(f\"Saved: {save_path.resolve()}\")\n"
   ]
  },
  {
   "cell_type": "code",
   "execution_count": 12,
   "id": "d4fe8587",
   "metadata": {},
   "outputs": [
    {
     "name": "stderr",
     "output_type": "stream",
     "text": [
      "C:\\Users\\JakeS\\AppData\\Local\\Temp\\ipykernel_4032\\203099736.py:19: FutureWarning: DataFrameGroupBy.apply operated on the grouping columns. This behavior is deprecated, and in a future version of pandas the grouping columns will be excluded from the operation. Either pass `include_groups=False` to exclude the groupings or explicitly select the grouping columns after groupby to silence this warning.\n",
      "  .apply(weighted_mean_error)\n"
     ]
    },
    {
     "data": {
      "image/png": "[encoded data removed]",
      "text/plain": [
       "<Figure size 700x500 with 1 Axes>"
      ]
     },
     "metadata": {},
     "output_type": "display_data"
    }
   ],
   "source": [
    "lambda_values = [0.4]\n",
    "tol = 0.002\n",
    "\n",
    "def weighted_mean_error(g):\n",
    "    weights = g[\"prob_density\"]\n",
    "    theta = g[\"theta_mrad\"]\n",
    "    w_mean = np.sum(theta * weights) / np.sum(weights)\n",
    "    w_var = np.sum(weights * (theta - w_mean)**2) / np.sum(weights)\n",
    "    n = len(g)\n",
    "    w_sem = np.sqrt(w_var) / np.sqrt(n)\n",
    "    return pd.Series({\"mean\": w_mean, \"sem\": w_sem})\n",
    "\n",
    "for lambda_curr in lambda_values:\n",
    "    subset = df_all[(df_all[\"lambda_frac\"] - lambda_curr).abs() < tol]\n",
    "\n",
    "    results = (\n",
    "    subset\n",
    "    .groupby([\"edm_state\", \"run_id\"])\n",
    "    .apply(weighted_mean_error)\n",
    "    )\n",
    "\n",
    "    angles = results.unstack(\"edm_state\")\n",
    "\n",
    "    means = results[\"mean\"].unstack(\"edm_state\")\n",
    "    errors = results[\"sem\"].unstack(\"edm_state\")\n",
    "\n",
    "    plt.figure(figsize=(7,5))\n",
    "    plt.title(fr\"$\\lambda$={lambda_curr}\")\n",
    "    plt.errorbar(means.index, means[\"With\"], yerr=errors[\"With\"], fmt=\"o-\", label=\"With EDM\")\n",
    "    plt.errorbar(means.index, means[\"Without\"], yerr=errors[\"Without\"], fmt=\"s--\", label=\"Without EDM\")\n",
    "    plt.xlabel(\"Run ID\")\n",
    "    plt.ylabel(\"⟨θₗ⟩ [mrad]\")\n",
    "    plt.legend()\n",
    "    plt.grid(True)\n",
    "    plt.show()\n"
   ]
  }
 ],
 "metadata": {
  "kernelspec": {
   "display_name": "Python 3",
   "language": "python",
   "name": "python3"
  },
  "language_info": {
   "codemirror_mode": {
    "name": "ipython",
    "version": 3
   },
   "file_extension": ".py",
   "mimetype": "text/x-python",
   "name": "python",
   "nbconvert_exporter": "python",
   "pygments_lexer": "ipython3",
   "version": "3.10.2"
  }
 },
 "nbformat": 4,
 "nbformat_minor": 5
}
