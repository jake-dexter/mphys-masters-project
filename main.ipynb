{
 "cells": [
  {
   "cell_type": "code",
   "execution_count": 7,
   "id": "ac7c1eb0",
   "metadata": {},
   "outputs": [],
   "source": [
    "import matplotlib.pyplot as plt\n",
    "from pathlib import Path\n",
    "import pandas as pd\n",
    "import numpy as np\n",
    "import pickle\n",
    "from tqdm import tqdm"
   ]
  },
  {
   "cell_type": "code",
   "execution_count": 8,
   "id": "5d40db23",
   "metadata": {},
   "outputs": [],
   "source": [
    "base_dirs = {\n",
    "    \"Without\": Path(\"data/Without EDM\"),\n",
    "    \"With\": Path(\"data/With EDM\")\n",
    "}\n",
    "\n",
    "dfs = []\n",
    "\n",
    "for edm_state, dir_path in base_dirs.items():\n",
    "    for file in sorted(dir_path.glob(\"G2_*.pkl\")):\n",
    "        run_id = int(file.stem.split(\"_\")[1])\n",
    "        with open(file, \"rb\") as f:\n",
    "            X, Y, Z = pickle.load(f)\n",
    "        \n",
    "        df = pd.DataFrame({\n",
    "            \"lambda\": X.ravel(),\n",
    "            \"theta_mrad\": (Y * 1000).ravel(),\n",
    "            \"prob_density\": Z.ravel(),\n",
    "            \"run_id\": run_id,\n",
    "            \"edm_state\": edm_state\n",
    "        })\n",
    "        dfs.append(df)\n",
    "\n",
    "df_all = pd.concat(dfs, ignore_index=True)"
   ]
  },
  {
   "cell_type": "code",
   "execution_count": 12,
   "id": "0840389c",
   "metadata": {},
   "outputs": [
    {
     "name": "stderr",
     "output_type": "stream",
     "text": [
      "EDM States:   0%|          | 0/2 [00:00<?, ?it/s]"
     ]
    },
    {
     "name": "stdout",
     "output_type": "stream",
     "text": [
      "Saved: C:\\Users\\JakeS\\OneDrive\\Documents\\University Work\\Year 4\\mphys-masters-project\\outputs\\With EDM\\G2_00_withEDM_heatmap.png\n",
      "Saved: C:\\Users\\JakeS\\OneDrive\\Documents\\University Work\\Year 4\\mphys-masters-project\\outputs\\With EDM\\G2_01_withEDM_heatmap.png\n",
      "Saved: C:\\Users\\JakeS\\OneDrive\\Documents\\University Work\\Year 4\\mphys-masters-project\\outputs\\With EDM\\G2_02_withEDM_heatmap.png\n",
      "Saved: C:\\Users\\JakeS\\OneDrive\\Documents\\University Work\\Year 4\\mphys-masters-project\\outputs\\With EDM\\G2_03_withEDM_heatmap.png\n",
      "Saved: C:\\Users\\JakeS\\OneDrive\\Documents\\University Work\\Year 4\\mphys-masters-project\\outputs\\With EDM\\G2_04_withEDM_heatmap.png\n",
      "Saved: C:\\Users\\JakeS\\OneDrive\\Documents\\University Work\\Year 4\\mphys-masters-project\\outputs\\With EDM\\G2_05_withEDM_heatmap.png\n",
      "Saved: C:\\Users\\JakeS\\OneDrive\\Documents\\University Work\\Year 4\\mphys-masters-project\\outputs\\With EDM\\G2_06_withEDM_heatmap.png\n",
      "Saved: C:\\Users\\JakeS\\OneDrive\\Documents\\University Work\\Year 4\\mphys-masters-project\\outputs\\With EDM\\G2_07_withEDM_heatmap.png\n",
      "Saved: C:\\Users\\JakeS\\OneDrive\\Documents\\University Work\\Year 4\\mphys-masters-project\\outputs\\With EDM\\G2_08_withEDM_heatmap.png\n",
      "Saved: C:\\Users\\JakeS\\OneDrive\\Documents\\University Work\\Year 4\\mphys-masters-project\\outputs\\With EDM\\G2_09_withEDM_heatmap.png\n",
      "Saved: C:\\Users\\JakeS\\OneDrive\\Documents\\University Work\\Year 4\\mphys-masters-project\\outputs\\With EDM\\G2_10_withEDM_heatmap.png\n",
      "Saved: C:\\Users\\JakeS\\OneDrive\\Documents\\University Work\\Year 4\\mphys-masters-project\\outputs\\With EDM\\G2_11_withEDM_heatmap.png\n",
      "Saved: C:\\Users\\JakeS\\OneDrive\\Documents\\University Work\\Year 4\\mphys-masters-project\\outputs\\With EDM\\G2_12_withEDM_heatmap.png\n",
      "Saved: C:\\Users\\JakeS\\OneDrive\\Documents\\University Work\\Year 4\\mphys-masters-project\\outputs\\With EDM\\G2_13_withEDM_heatmap.png\n",
      "Saved: C:\\Users\\JakeS\\OneDrive\\Documents\\University Work\\Year 4\\mphys-masters-project\\outputs\\With EDM\\G2_14_withEDM_heatmap.png\n",
      "Saved: C:\\Users\\JakeS\\OneDrive\\Documents\\University Work\\Year 4\\mphys-masters-project\\outputs\\With EDM\\G2_15_withEDM_heatmap.png\n",
      "Saved: C:\\Users\\JakeS\\OneDrive\\Documents\\University Work\\Year 4\\mphys-masters-project\\outputs\\With EDM\\G2_16_withEDM_heatmap.png\n",
      "Saved: C:\\Users\\JakeS\\OneDrive\\Documents\\University Work\\Year 4\\mphys-masters-project\\outputs\\With EDM\\G2_17_withEDM_heatmap.png\n",
      "Saved: C:\\Users\\JakeS\\OneDrive\\Documents\\University Work\\Year 4\\mphys-masters-project\\outputs\\With EDM\\G2_18_withEDM_heatmap.png\n",
      "Saved: C:\\Users\\JakeS\\OneDrive\\Documents\\University Work\\Year 4\\mphys-masters-project\\outputs\\With EDM\\G2_19_withEDM_heatmap.png\n",
      "Saved: C:\\Users\\JakeS\\OneDrive\\Documents\\University Work\\Year 4\\mphys-masters-project\\outputs\\With EDM\\G2_20_withEDM_heatmap.png\n",
      "Saved: C:\\Users\\JakeS\\OneDrive\\Documents\\University Work\\Year 4\\mphys-masters-project\\outputs\\With EDM\\G2_21_withEDM_heatmap.png\n",
      "Saved: C:\\Users\\JakeS\\OneDrive\\Documents\\University Work\\Year 4\\mphys-masters-project\\outputs\\With EDM\\G2_22_withEDM_heatmap.png\n",
      "Saved: C:\\Users\\JakeS\\OneDrive\\Documents\\University Work\\Year 4\\mphys-masters-project\\outputs\\With EDM\\G2_23_withEDM_heatmap.png\n",
      "Saved: C:\\Users\\JakeS\\OneDrive\\Documents\\University Work\\Year 4\\mphys-masters-project\\outputs\\With EDM\\G2_24_withEDM_heatmap.png\n",
      "Saved: C:\\Users\\JakeS\\OneDrive\\Documents\\University Work\\Year 4\\mphys-masters-project\\outputs\\With EDM\\G2_25_withEDM_heatmap.png\n",
      "Saved: C:\\Users\\JakeS\\OneDrive\\Documents\\University Work\\Year 4\\mphys-masters-project\\outputs\\With EDM\\G2_26_withEDM_heatmap.png\n",
      "Saved: C:\\Users\\JakeS\\OneDrive\\Documents\\University Work\\Year 4\\mphys-masters-project\\outputs\\With EDM\\G2_27_withEDM_heatmap.png\n"
     ]
    },
    {
     "name": "stderr",
     "output_type": "stream",
     "text": [
      "EDM States:  50%|█████     | 1/2 [00:48<00:48, 48.59s/it]"
     ]
    },
    {
     "name": "stdout",
     "output_type": "stream",
     "text": [
      "Saved: C:\\Users\\JakeS\\OneDrive\\Documents\\University Work\\Year 4\\mphys-masters-project\\outputs\\With EDM\\G2_28_withEDM_heatmap.png\n",
      "Saved: C:\\Users\\JakeS\\OneDrive\\Documents\\University Work\\Year 4\\mphys-masters-project\\outputs\\Without EDM\\G2_00_heatmap.png\n",
      "Saved: C:\\Users\\JakeS\\OneDrive\\Documents\\University Work\\Year 4\\mphys-masters-project\\outputs\\Without EDM\\G2_01_heatmap.png\n",
      "Saved: C:\\Users\\JakeS\\OneDrive\\Documents\\University Work\\Year 4\\mphys-masters-project\\outputs\\Without EDM\\G2_02_heatmap.png\n",
      "Saved: C:\\Users\\JakeS\\OneDrive\\Documents\\University Work\\Year 4\\mphys-masters-project\\outputs\\Without EDM\\G2_03_heatmap.png\n",
      "Saved: C:\\Users\\JakeS\\OneDrive\\Documents\\University Work\\Year 4\\mphys-masters-project\\outputs\\Without EDM\\G2_04_heatmap.png\n",
      "Saved: C:\\Users\\JakeS\\OneDrive\\Documents\\University Work\\Year 4\\mphys-masters-project\\outputs\\Without EDM\\G2_05_heatmap.png\n",
      "Saved: C:\\Users\\JakeS\\OneDrive\\Documents\\University Work\\Year 4\\mphys-masters-project\\outputs\\Without EDM\\G2_06_heatmap.png\n",
      "Saved: C:\\Users\\JakeS\\OneDrive\\Documents\\University Work\\Year 4\\mphys-masters-project\\outputs\\Without EDM\\G2_07_heatmap.png\n",
      "Saved: C:\\Users\\JakeS\\OneDrive\\Documents\\University Work\\Year 4\\mphys-masters-project\\outputs\\Without EDM\\G2_08_heatmap.png\n",
      "Saved: C:\\Users\\JakeS\\OneDrive\\Documents\\University Work\\Year 4\\mphys-masters-project\\outputs\\Without EDM\\G2_09_heatmap.png\n",
      "Saved: C:\\Users\\JakeS\\OneDrive\\Documents\\University Work\\Year 4\\mphys-masters-project\\outputs\\Without EDM\\G2_10_heatmap.png\n",
      "Saved: C:\\Users\\JakeS\\OneDrive\\Documents\\University Work\\Year 4\\mphys-masters-project\\outputs\\Without EDM\\G2_11_heatmap.png\n",
      "Saved: C:\\Users\\JakeS\\OneDrive\\Documents\\University Work\\Year 4\\mphys-masters-project\\outputs\\Without EDM\\G2_12_heatmap.png\n",
      "Saved: C:\\Users\\JakeS\\OneDrive\\Documents\\University Work\\Year 4\\mphys-masters-project\\outputs\\Without EDM\\G2_13_heatmap.png\n",
      "Saved: C:\\Users\\JakeS\\OneDrive\\Documents\\University Work\\Year 4\\mphys-masters-project\\outputs\\Without EDM\\G2_14_heatmap.png\n",
      "Saved: C:\\Users\\JakeS\\OneDrive\\Documents\\University Work\\Year 4\\mphys-masters-project\\outputs\\Without EDM\\G2_15_heatmap.png\n",
      "Saved: C:\\Users\\JakeS\\OneDrive\\Documents\\University Work\\Year 4\\mphys-masters-project\\outputs\\Without EDM\\G2_16_heatmap.png\n",
      "Saved: C:\\Users\\JakeS\\OneDrive\\Documents\\University Work\\Year 4\\mphys-masters-project\\outputs\\Without EDM\\G2_17_heatmap.png\n",
      "Saved: C:\\Users\\JakeS\\OneDrive\\Documents\\University Work\\Year 4\\mphys-masters-project\\outputs\\Without EDM\\G2_18_heatmap.png\n",
      "Saved: C:\\Users\\JakeS\\OneDrive\\Documents\\University Work\\Year 4\\mphys-masters-project\\outputs\\Without EDM\\G2_19_heatmap.png\n",
      "Saved: C:\\Users\\JakeS\\OneDrive\\Documents\\University Work\\Year 4\\mphys-masters-project\\outputs\\Without EDM\\G2_20_heatmap.png\n",
      "Saved: C:\\Users\\JakeS\\OneDrive\\Documents\\University Work\\Year 4\\mphys-masters-project\\outputs\\Without EDM\\G2_21_heatmap.png\n",
      "Saved: C:\\Users\\JakeS\\OneDrive\\Documents\\University Work\\Year 4\\mphys-masters-project\\outputs\\Without EDM\\G2_22_heatmap.png\n",
      "Saved: C:\\Users\\JakeS\\OneDrive\\Documents\\University Work\\Year 4\\mphys-masters-project\\outputs\\Without EDM\\G2_23_heatmap.png\n",
      "Saved: C:\\Users\\JakeS\\OneDrive\\Documents\\University Work\\Year 4\\mphys-masters-project\\outputs\\Without EDM\\G2_24_heatmap.png\n",
      "Saved: C:\\Users\\JakeS\\OneDrive\\Documents\\University Work\\Year 4\\mphys-masters-project\\outputs\\Without EDM\\G2_25_heatmap.png\n",
      "Saved: C:\\Users\\JakeS\\OneDrive\\Documents\\University Work\\Year 4\\mphys-masters-project\\outputs\\Without EDM\\G2_26_heatmap.png\n",
      "Saved: C:\\Users\\JakeS\\OneDrive\\Documents\\University Work\\Year 4\\mphys-masters-project\\outputs\\Without EDM\\G2_27_heatmap.png\n"
     ]
    },
    {
     "name": "stderr",
     "output_type": "stream",
     "text": [
      "EDM States: 100%|██████████| 2/2 [01:43<00:00, 51.86s/it]"
     ]
    },
    {
     "name": "stdout",
     "output_type": "stream",
     "text": [
      "Saved: C:\\Users\\JakeS\\OneDrive\\Documents\\University Work\\Year 4\\mphys-masters-project\\outputs\\Without EDM\\G2_28_heatmap.png\n"
     ]
    },
    {
     "name": "stderr",
     "output_type": "stream",
     "text": [
      "\n"
     ]
    }
   ],
   "source": [
    "output_base = Path(\"outputs\")\n",
    "\n",
    "for edm_state in tqdm([\"With\", \"Without\"], desc=\"EDM States\"):\n",
    "    # Match the folder names on disk\n",
    "    folder_name = \"With EDM\" if edm_state == \"With\" else \"Without EDM\"\n",
    "    output_dir = output_base / folder_name\n",
    "    output_dir.mkdir(parents=True, exist_ok=True)\n",
    "\n",
    "    for run_id in range(29):\n",
    "        subset = df_all.query(\"edm_state == @edm_state and run_id == @run_id\")\n",
    "        if subset.empty:\n",
    "            print(f\"Skipping {edm_state} run {run_id:02} — no data found.\")\n",
    "            continue\n",
    "\n",
    "        # Get unique sorted axes\n",
    "        lambdas = np.sort(subset[\"lambda\"].unique())\n",
    "        thetas = np.sort(subset[\"theta_mrad\"].unique())\n",
    "\n",
    "        # Reshape back into 2D grid\n",
    "        Z_grid = subset.pivot_table(\n",
    "            index=\"theta_mrad\",\n",
    "            columns=\"lambda\",\n",
    "            values=\"prob_density\"\n",
    "        ).values\n",
    "\n",
    "        # File name format (matches your .pkl naming)\n",
    "        if edm_state == \"With\":\n",
    "            fname = f\"G2_{run_id:02}_withEDM_heatmap.png\"\n",
    "        else:\n",
    "            fname = f\"G2_{run_id:02}_heatmap.png\"\n",
    "\n",
    "        save_path = output_dir / fname\n",
    "\n",
    "        # Plot and save (no inline output)\n",
    "        plt.figure(figsize=(6,6))\n",
    "        plt.imshow(\n",
    "            Z_grid,\n",
    "            extent=[lambdas.min(), lambdas.max(), thetas.min(), thetas.max()],\n",
    "            aspect='auto',\n",
    "            origin='lower',\n",
    "            cmap='viridis'\n",
    "        )\n",
    "        plt.xlabel(r\"Fractional energy ($\\lambda$)\")\n",
    "        plt.ylabel(r\"Longitudinal angle ($\\theta_L$) [mrad]\")\n",
    "        plt.title(f\"{folder_name} — Run {run_id:02}\")\n",
    "        plt.colorbar(label=\"Probability density\")\n",
    "        plt.tight_layout()\n",
    "        plt.savefig(save_path, dpi=200)\n",
    "        plt.close()\n",
    "\n",
    "        print(f\"Saved: {save_path.resolve()}\")\n"
   ]
  },
  {
   "cell_type": "code",
   "execution_count": 14,
   "id": "d4fe8587",
   "metadata": {},
   "outputs": [
    {
     "data": {
      "image/png": "[encoded data removed]",
      "text/plain": [
       "<Figure size 700x500 with 1 Axes>"
      ]
     },
     "metadata": {},
     "output_type": "display_data"
    }
   ],
   "source": [
    "target_lambda = 0.8\n",
    "tolerance = 0.005\n",
    "\n",
    "# Filter DataFrame to only rows near this lambda\n",
    "df_slice = df_all[np.isclose(df_all[\"lambda\"], target_lambda, atol=tolerance)]\n",
    "\n",
    "# Group by EDM state and run ID, and compute mean vertical angle\n",
    "mean_angles = (\n",
    "    df_slice.groupby([\"edm_state\", \"run_id\"])[\"theta_mrad\"]\n",
    "    .mean()\n",
    "    .reset_index()\n",
    ")\n",
    "\n",
    "# Plot\n",
    "plt.figure(figsize=(7,5))\n",
    "for edm_state, subset in mean_angles.groupby(\"edm_state\"):\n",
    "    plt.plot(subset[\"run_id\"], subset[\"theta_mrad\"], marker='o', label=edm_state)\n",
    "\n",
    "plt.xlabel(\"Simulation step (run_id)\")\n",
    "plt.ylabel(r\"Average longitudinal angle $\\langle \\theta_L \\rangle$ [mrad]\")\n",
    "plt.title(rf\"Average vertical angle vs step at $\\lambda$ = {target_lambda:.2f}\")\n",
    "plt.legend(title=\"EDM state\")\n",
    "plt.grid(True)\n",
    "plt.tight_layout()\n",
    "plt.show()\n"
   ]
  }
 ],
 "metadata": {
  "kernelspec": {
   "display_name": "Python 3",
   "language": "python",
   "name": "python3"
  },
  "language_info": {
   "codemirror_mode": {
    "name": "ipython",
    "version": 3
   },
   "file_extension": ".py",
   "mimetype": "text/x-python",
   "name": "python",
   "nbconvert_exporter": "python",
   "pygments_lexer": "ipython3",
   "version": "3.10.2"
  }
 },
 "nbformat": 4,
 "nbformat_minor": 5
}
